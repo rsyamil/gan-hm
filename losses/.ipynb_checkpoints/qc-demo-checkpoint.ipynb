{
 "cells": [
  {
   "cell_type": "code",
   "execution_count": 7,
   "metadata": {},
   "outputs": [],
   "source": [
    "import sys\n",
    "import random\n",
    "import string\n",
    "import numpy as np\n",
    "import matplotlib as mpl\n",
    "import matplotlib.pyplot as plt\n",
    "import seaborn as sns\n",
    "sns.set_style(\"whitegrid\")\n",
    "%matplotlib inline\n",
    "\n",
    "from scipy.ndimage.filters import gaussian_filter1d as gf"
   ]
  },
  {
   "cell_type": "code",
   "execution_count": 5,
   "metadata": {},
   "outputs": [
    {
     "name": "stdout",
     "output_type": "stream",
     "text": [
      "(20000, 2)\n",
      "(20000, 1)\n",
      "(20000, 2)\n",
      "(20000, 1)\n",
      "(20000, 4)\n",
      "(20000, 1)\n"
     ]
    }
   ],
   "source": [
    "gan_d_losses = np.load(\"gan_d_losses.npy\")\n",
    "gan_g_losses = np.load(\"gan_g_losses.npy\")\n",
    "\n",
    "print(gan_d_losses.shape)\n",
    "print(gan_g_losses.shape)\n",
    "\n",
    "wgan_d_losses = np.load(\"wgan_d_losses.npy\")\n",
    "wgan_g_losses = np.load(\"wgan_g_losses.npy\")\n",
    "\n",
    "print(wgan_d_losses.shape)\n",
    "print(wgan_g_losses.shape)\n",
    "\n",
    "wgangp_d_losses = np.load(\"wgangp_d_losses.npy\")\n",
    "wgangp_g_losses = np.load(\"wgangp_g_losses.npy\")\n",
    "\n",
    "print(wgangp_d_losses.shape)\n",
    "print(wgangp_g_losses.shape)"
   ]
  },
  {
   "cell_type": "code",
   "execution_count": 23,
   "metadata": {},
   "outputs": [],
   "source": [
    "#plot gan losses\n",
    "fig, ax1 = plt.subplots()\n",
    "\n",
    "ax1.set_xlabel('Epoch')\n",
    "ax1.set_ylabel('Discriminator', color='green')\n",
    "ax1.plot(gf(gan_d_losses[:, 0], sigma=200), label='d_loss', c = 'green')\n",
    "ax1.tick_params(axis='y', labelcolor='green')\n",
    "ax1.legend()\n",
    "ax1.set_xlim([0, 18000])\n",
    "ax1.grid(False)\n",
    "\n",
    "ax2 = ax1.twinx() \n",
    "ax2.set_ylabel('Generator', color='red') \n",
    "ax2.plot(gf(gan_g_losses[:,0], sigma=200), label='g_loss', c = 'red')\n",
    "ax2.tick_params(axis='y', labelcolor='red')\n",
    "ax2.legend()\n",
    "ax1.set_xlim([0, 18000])\n",
    "ax2.grid(False)\n",
    "\n",
    "plt.title(\"GAN\")\n",
    "fig.tight_layout() \n",
    "fig.savefig(\"gan_losses\"+'.png')\n",
    "plt.close(fig)"
   ]
  },
  {
   "cell_type": "code",
   "execution_count": 24,
   "metadata": {},
   "outputs": [],
   "source": [
    "#plot wgan losses\n",
    "fig, ax1 = plt.subplots()\n",
    "\n",
    "ax1.set_xlabel('Epoch')\n",
    "ax1.set_ylabel('Discriminator', color='green')\n",
    "ax1.plot(gf(wgan_d_losses[:, 0], sigma=200), label='d_loss', c = 'green')\n",
    "ax1.tick_params(axis='y', labelcolor='green')\n",
    "ax1.legend()\n",
    "ax1.set_xlim([0, 18000])\n",
    "ax1.grid(False)\n",
    "\n",
    "ax2 = ax1.twinx() \n",
    "ax2.set_ylabel('Generator', color='red') \n",
    "ax2.plot(gf(wgan_g_losses[:,0], sigma=200), label='g_loss', c = 'red')\n",
    "ax2.tick_params(axis='y', labelcolor='red')\n",
    "ax2.legend()\n",
    "ax1.set_xlim([0, 18000])\n",
    "ax2.grid(False)\n",
    "\n",
    "plt.title(\"WGAN\")\n",
    "fig.tight_layout() \n",
    "fig.savefig(\"wgan_losses\"+'.png')\n",
    "plt.close(fig)"
   ]
  },
  {
   "cell_type": "code",
   "execution_count": 25,
   "metadata": {},
   "outputs": [],
   "source": [
    "#plot wgangp losses\n",
    "fig, ax1 = plt.subplots()\n",
    "\n",
    "ax1.set_xlabel('Epoch')\n",
    "ax1.set_ylabel('Discriminator', color='green')\n",
    "ax1.plot(gf(wgangp_d_losses[:, 0], sigma=200), label='d_loss', c = 'green')\n",
    "ax1.tick_params(axis='y', labelcolor='green')\n",
    "ax1.legend()\n",
    "ax1.set_xlim([0, 18000])\n",
    "ax1.grid(False)\n",
    "\n",
    "ax2 = ax1.twinx() \n",
    "ax2.set_ylabel('Generator', color='red') \n",
    "ax2.plot(gf(wgangp_g_losses[:,0], sigma=200), label='g_loss', c = 'red')\n",
    "ax2.tick_params(axis='y', labelcolor='red')\n",
    "ax2.legend()\n",
    "ax1.set_xlim([0, 18000])\n",
    "ax2.grid(False)\n",
    "\n",
    "plt.title(\"WGANGP\")\n",
    "fig.tight_layout() \n",
    "fig.savefig(\"wgangp_losses\"+'.png')\n",
    "plt.close(fig)"
   ]
  },
  {
   "cell_type": "code",
   "execution_count": null,
   "metadata": {},
   "outputs": [],
   "source": []
  },
  {
   "cell_type": "code",
   "execution_count": null,
   "metadata": {},
   "outputs": [],
   "source": []
  }
 ],
 "metadata": {
  "kernelspec": {
   "display_name": "Python 3",
   "language": "python",
   "name": "python3"
  },
  "language_info": {
   "codemirror_mode": {
    "name": "ipython",
    "version": 3
   },
   "file_extension": ".py",
   "mimetype": "text/x-python",
   "name": "python",
   "nbconvert_exporter": "python",
   "pygments_lexer": "ipython3",
   "version": "3.6.11"
  },
  "varInspector": {
   "cols": {
    "lenName": 16,
    "lenType": 16,
    "lenVar": 40
   },
   "kernels_config": {
    "python": {
     "delete_cmd_postfix": "",
     "delete_cmd_prefix": "del ",
     "library": "var_list.py",
     "varRefreshCmd": "print(var_dic_list())"
    },
    "r": {
     "delete_cmd_postfix": ") ",
     "delete_cmd_prefix": "rm(",
     "library": "var_list.r",
     "varRefreshCmd": "cat(var_dic_list()) "
    }
   },
   "oldHeight": 286.99678,
   "position": {
    "height": "40px",
    "left": "1366.95px",
    "right": "20px",
    "top": "126.951px",
    "width": "376.997px"
   },
   "types_to_exclude": [
    "module",
    "function",
    "builtin_function_or_method",
    "instance",
    "_Feature"
   ],
   "varInspector_section_display": "none",
   "window_display": true
  }
 },
 "nbformat": 4,
 "nbformat_minor": 2
}
